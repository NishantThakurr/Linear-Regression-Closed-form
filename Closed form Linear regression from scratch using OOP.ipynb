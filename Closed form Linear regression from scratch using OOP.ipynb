{
 "cells": [
  {
   "cell_type": "code",
   "execution_count": 72,
   "id": "58037cb1",
   "metadata": {},
   "outputs": [],
   "source": [
    "class LRCF:\n",
    "    def _init__(self,x,y):\n",
    "        self.m=None\n",
    "        self.b=None\n",
    "    \n",
    "    def fit(self,X_train,y_train):\n",
    "        num=0\n",
    "        den=0\n",
    "        for i in range(X_train.shape[0]):\n",
    "            num=num + (X_train[i]-X_train.mean())*(y_train[i]-y_train.mean())\n",
    "            den=den + (X_train[i]-X_train.mean())**2\n",
    "            \n",
    "        self.m=num/den\n",
    "        self.b=y_train.mean()-(self.m*X_train.mean())\n",
    "        print(self.m)\n",
    "        print(self.b)\n",
    "            \n",
    "    \n",
    "    def predict(self,X_test,y_test):\n",
    "        for i in range(X_test.shape[0]):\n",
    "            y=self.m*X_test[i]+self.b\n",
    "            print(f'{X_test[i]}:{y}:{y_test[i]}')\n",
    "            \n",
    "        \n",
    "        \n",
    "        "
   ]
  },
  {
   "cell_type": "code",
   "execution_count": 73,
   "id": "eaa66daf",
   "metadata": {},
   "outputs": [],
   "source": [
    "import numpy as np\n",
    "import pandas as pd"
   ]
  },
  {
   "cell_type": "code",
   "execution_count": 74,
   "id": "b5d5f46e",
   "metadata": {},
   "outputs": [],
   "source": [
    "df=pd.read_csv(\"placement.csv\")"
   ]
  },
  {
   "cell_type": "code",
   "execution_count": 75,
   "id": "cf64a748",
   "metadata": {},
   "outputs": [],
   "source": [
    "X=df.iloc[:,0].values\n",
    "Y=df.iloc[:,1].values"
   ]
  },
  {
   "cell_type": "code",
   "execution_count": 76,
   "id": "7e2f1e95",
   "metadata": {},
   "outputs": [],
   "source": [
    "from sklearn.model_selection import train_test_split\n",
    "X_train,X_test,y_train,y_test=train_test_split(X,Y,test_size=.3,random_state=2)"
   ]
  },
  {
   "cell_type": "code",
   "execution_count": 77,
   "id": "5bef1b88",
   "metadata": {},
   "outputs": [
    {
     "data": {
      "text/plain": [
       "array([5.94, 6.05, 5.83, 5.95, 9.31, 5.58, 7.88, 6.13, 7.76, 4.85, 6.19,\n",
       "       8.6 , 6.07, 7.18, 5.12, 7.39, 8.25, 8.28, 7.13, 7.35, 5.66, 5.99,\n",
       "       8.01, 7.14, 6.34, 6.89, 5.42, 6.47, 7.69, 7.4 , 7.28, 5.95, 7.38,\n",
       "       6.93, 8.99, 7.36, 7.08, 5.38, 7.56, 8.22, 5.84, 6.78, 7.19, 7.28,\n",
       "       6.79, 6.12, 6.85, 8.2 , 6.84, 7.37, 6.22, 6.61, 5.23, 7.21, 6.85,\n",
       "       6.19, 7.3 , 6.17, 5.89, 8.09, 7.11, 4.26, 6.94, 5.98, 6.71, 7.33,\n",
       "       9.06, 6.1 , 5.48, 6.1 , 7.56, 7.29, 5.84, 7.48, 7.61, 5.79, 5.61,\n",
       "       7.34, 9.38, 7.91, 6.94, 7.94, 8.31, 6.96, 6.93, 7.11, 8.44, 8.18,\n",
       "       6.66, 8.44, 7.12, 6.3 , 5.84, 6.98, 7.63, 5.64, 7.43, 8.87, 7.84,\n",
       "       5.84, 9.58, 8.37, 7.63, 6.31, 6.5 , 8.11, 6.07, 4.73, 7.3 , 6.51,\n",
       "       7.28, 6.92, 6.35, 8.62, 7.05, 9.26, 6.33, 6.22, 6.94, 5.13, 8.13,\n",
       "       5.9 , 9.04, 6.06, 7.57, 8.1 , 9.16, 5.84, 7.89, 6.63, 7.09, 5.53,\n",
       "       6.75, 7.62, 6.97, 7.66, 6.14, 7.78, 7.25, 8.65])"
      ]
     },
     "execution_count": 77,
     "metadata": {},
     "output_type": "execute_result"
    }
   ],
   "source": [
    "X_train"
   ]
  },
  {
   "cell_type": "code",
   "execution_count": 78,
   "id": "feab4380",
   "metadata": {},
   "outputs": [],
   "source": [
    "LR=LRCF()"
   ]
  },
  {
   "cell_type": "code",
   "execution_count": 79,
   "id": "10044754",
   "metadata": {},
   "outputs": [
    {
     "name": "stdout",
     "output_type": "stream",
     "text": [
      "0.5557424096560765\n",
      "-0.8781178361812056\n"
     ]
    }
   ],
   "source": [
    "LR.fit(X_train,y_train)"
   ]
  },
  {
   "cell_type": "code",
   "execution_count": 80,
   "id": "4a76bbf7",
   "metadata": {},
   "outputs": [
    {
     "name": "stdout",
     "output_type": "stream",
     "text": [
      "8.58:3.8901520386679307:4.1\n",
      "7.15:3.095440392859741:3.49\n",
      "5.88:2.389647532596524:2.08\n",
      "6.22:2.57859995187959:2.33\n",
      "4.57:1.6616249759470638:1.94\n",
      "4.79:1.7838883060714008:1.48\n",
      "5.32:2.0784317831891213:1.86\n",
      "6.86:2.9342750940594793:3.09\n",
      "8.35:3.7623312844470327:4.21\n",
      "6.87:2.93983251815604:2.87\n",
      "8.94:4.090219306144117:3.65\n",
      "7.9:3.5122472001017986:4.0\n",
      "6.93:2.973177062735404:2.89\n",
      "5.91:2.4063198048862064:2.6\n",
      "7.32:3.189916602501274:2.99\n",
      "7.82:3.4677878073293122:3.25\n",
      "5.09:1.9506110289682237:1.86\n",
      "7.42:3.2454908434668814:3.67\n",
      "6.94:2.978734486831965:2.37\n",
      "7.73:3.417770990460266:3.42\n",
      "6.19:2.5619276795899077:2.48\n",
      "7.28:3.167686906115031:3.65\n",
      "6.73:2.862028580804189:2.6\n",
      "7.2:3.1232275133425453:2.83\n",
      "8.21:3.684527347095183:4.08\n",
      "6.75:2.8731434289973103:2.56\n",
      "7.87:3.4955749278121164:3.58\n",
      "7.6:3.3455244772049753:3.81\n",
      "8.63:3.917939159150735:4.09\n",
      "5.12:1.9672833012579058:2.01\n",
      "8.15:3.6511828025158177:3.63\n",
      "7.36:3.212146298887517:2.92\n",
      "8.31:3.7401015880607904:3.51\n",
      "6.6:2.7897820675488987:1.94\n",
      "6.59:2.784224643452338:2.21\n",
      "7.47:3.2732779639496856:3.34\n",
      "7.93:3.5289194723914807:3.34\n",
      "6.29:2.6175019205555152:3.23\n",
      "6.37:2.6619613133280016:2.01\n",
      "6.47:2.717535554293609:2.61\n",
      "7.14:3.08988296876318:3.13\n",
      "8.93:4.084661882047557:3.91\n",
      "5.42:2.1340060241547287:2.25\n",
      "5.1:1.9561684530647843:2.3\n",
      "7.77:3.440000686846508:4.06\n",
      "6.76:2.878700853093871:3.18\n",
      "6.89:2.950947366349161:2.7\n",
      "6.68:2.834241460321385:2.49\n",
      "7.91:3.5178046241983596:3.15\n",
      "7.89:3.5066897760052376:2.99\n",
      "8.71:3.962398551923221:4.08\n",
      "7.95:3.5400343205846028:4.14\n",
      "6.61:2.79533949164546:2.6\n",
      "6.26:2.600829648265833:2.44\n",
      "6.53:2.750880098872974:2.71\n",
      "6.42:2.6897484338108053:2.72\n",
      "5.11:1.9617258771613453:1.63\n",
      "6.09:2.5063534386243:2.31\n",
      "6.93:2.973177062735404:2.51\n",
      "7.04:3.0343087277975727:3.5\n"
     ]
    }
   ],
   "source": [
    "LR.predict(X_test,y_test)"
   ]
  },
  {
   "cell_type": "code",
   "execution_count": null,
   "id": "b5f6914f",
   "metadata": {},
   "outputs": [],
   "source": []
  },
  {
   "cell_type": "code",
   "execution_count": null,
   "id": "7acc1fde",
   "metadata": {},
   "outputs": [],
   "source": []
  },
  {
   "cell_type": "code",
   "execution_count": null,
   "id": "f13fa16b",
   "metadata": {},
   "outputs": [],
   "source": []
  },
  {
   "cell_type": "code",
   "execution_count": null,
   "id": "e5ee009d",
   "metadata": {},
   "outputs": [],
   "source": []
  },
  {
   "cell_type": "code",
   "execution_count": null,
   "id": "eeb3714d",
   "metadata": {},
   "outputs": [],
   "source": []
  },
  {
   "cell_type": "code",
   "execution_count": null,
   "id": "08f17c06",
   "metadata": {},
   "outputs": [],
   "source": []
  },
  {
   "cell_type": "code",
   "execution_count": null,
   "id": "91ac04d4",
   "metadata": {},
   "outputs": [],
   "source": []
  },
  {
   "cell_type": "code",
   "execution_count": null,
   "id": "dd2468c5",
   "metadata": {},
   "outputs": [],
   "source": []
  }
 ],
 "metadata": {
  "kernelspec": {
   "display_name": "Python 3 (ipykernel)",
   "language": "python",
   "name": "python3"
  },
  "language_info": {
   "codemirror_mode": {
    "name": "ipython",
    "version": 3
   },
   "file_extension": ".py",
   "mimetype": "text/x-python",
   "name": "python",
   "nbconvert_exporter": "python",
   "pygments_lexer": "ipython3",
   "version": "3.9.7"
  }
 },
 "nbformat": 4,
 "nbformat_minor": 5
}
